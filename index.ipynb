{
 "cells": [
  {
   "cell_type": "markdown",
   "metadata": {},
   "source": [
    "# Combinations with probabilities"
   ]
  },
  {
   "cell_type": "markdown",
   "metadata": {},
   "source": [
    "## Introduction"
   ]
  },
  {
   "cell_type": "markdown",
   "metadata": {},
   "source": [
    "You've already seen in the previous labs that combinations and permutations don't occur in a vacuum. In this lab, you'll extend your knowledge on combinations by using them along with preset probabilities."
   ]
  },
  {
   "cell_type": "markdown",
   "metadata": {},
   "source": [
    "## Learning objectives"
   ]
  },
  {
   "cell_type": "markdown",
   "metadata": {},
   "source": [
    "In this lab,\n",
    "\n",
    "- You'll get some more practice in on using combinations\n",
    "- You'll learn how to deal with situations where we're looking sequential outcomes with certain probabilities."
   ]
  },
  {
   "cell_type": "markdown",
   "metadata": {},
   "source": [
    "## Let's get started"
   ]
  },
  {
   "cell_type": "markdown",
   "metadata": {},
   "source": [
    "You'll use combinations again in this lab. It'll be useful to reuse the function you created before:"
   ]
  },
  {
   "cell_type": "code",
   "execution_count": 17,
   "metadata": {},
   "outputs": [],
   "source": [
    "def combination(n,k):\n",
    "    combin = factorial(n)/(factorial(n-k)*factorial(k))\n",
    "    return combin\n",
    "\n",
    "def factorial(n):\n",
    "    prod = 1\n",
    "    while n >= 1:\n",
    "        prod = prod * n\n",
    "        n = n - 1\n",
    "    return prod\n",
    "\n",
    "def permutation(n,k):\n",
    "    return factorial(n)/factorial(n-k)"
   ]
  },
  {
   "cell_type": "markdown",
   "metadata": {},
   "source": [
    "After a long day of coding, the Flatiron School immersive students decide to go to a bowling alley to try and pull off some trick shots like this: \n",
    "\n",
    "<img src=\"bowling.gif\">\n"
   ]
  },
  {
   "cell_type": "markdown",
   "metadata": {},
   "source": [
    "A bowling game has 10 rounds. The students still have the combinatorics section of the immersive course in mind, and one student is wondering how big the chance is of throwing 3 strikes first, and then no strikes at all for the next seven rounds. Use the python console below to compute this particular probability, assuming that the chance of a throwing a strike is 0.25."
   ]
  },
  {
   "cell_type": "code",
   "execution_count": 3,
   "metadata": {},
   "outputs": [
    {
     "data": {
      "text/plain": [
       "0.0020856857299804688"
      ]
     },
     "execution_count": 3,
     "metadata": {},
     "output_type": "execute_result"
    }
   ],
   "source": [
    "strikes_order1 = .25**3 * .75**7\n",
    "strikes_order1 # correct answer: 0.0020856857299804688"
   ]
  },
  {
   "cell_type": "markdown",
   "metadata": {},
   "source": [
    "Next, another student is wondering what the chances are of throwing a strike, then no strike for 7 rounds, and then 2 strikes again. calculate the probability below."
   ]
  },
  {
   "cell_type": "code",
   "execution_count": 4,
   "metadata": {},
   "outputs": [
    {
     "data": {
      "text/plain": [
       "0.0020856857299804688"
      ]
     },
     "execution_count": 4,
     "metadata": {},
     "output_type": "execute_result"
    }
   ],
   "source": [
    "strikes_order2 = .25 * .75**7 * .25**2\n",
    "strikes_order2  # correct answer: 0.0020856857299804688"
   ]
  },
  {
   "cell_type": "markdown",
   "metadata": {},
   "source": [
    "The pattern should be fairly clear from here on out! Now you'll see how combinations come in handy here. You can use them along with these probabilities. Let's see how this works."
   ]
  },
  {
   "cell_type": "markdown",
   "metadata": {},
   "source": [
    "Let's start with this question: what is the probability that in the course of 10 rounds you throw exactly 3 strikes?"
   ]
  },
  {
   "cell_type": "code",
   "execution_count": 6,
   "metadata": {},
   "outputs": [
    {
     "data": {
      "text/plain": [
       "0.25028228759765625"
      ]
     },
     "execution_count": 6,
     "metadata": {},
     "output_type": "execute_result"
    }
   ],
   "source": [
    "exactly_3 = combination(10,3) * .25**3 * .75**7\n",
    "exactly_3  # correct answer: 0.25028228759765625"
   ]
  },
  {
   "cell_type": "markdown",
   "metadata": {},
   "source": [
    "Now, students are obviously interested in throwing as many strikes as possible. Someone wants to know what the probability is of throwing 4 or more strikes. What is the best way of calculating this?"
   ]
  },
  {
   "cell_type": "code",
   "execution_count": 16,
   "metadata": {},
   "outputs": [
    {
     "data": {
      "text/plain": [
       "0.22412490844726562"
      ]
     },
     "execution_count": 16,
     "metadata": {},
     "output_type": "execute_result"
    }
   ],
   "source": [
    "exactly_3\n",
    "exactly_2 = combination(10,2) * .25**2 * .75**8\n",
    "exactly_1 = combination(10,1) * .25 * .75**9\n",
    "exactly_0 = combination(10,0) * .75**10\n",
    "\n",
    "four_or_more = 1 - (exactly_3+ exactly_2 + exactly_1 + exactly_0)\n",
    "four_or_more # correct answer: 0.22412490844726562"
   ]
  },
  {
   "cell_type": "markdown",
   "metadata": {},
   "source": [
    "Now, let's make it a little harder. Of course, a spare is also a fairly common outcome when playing bowling. Imagine that the probability of throwing a strike is 0.15, or a spare 0.25 and throwing anything else is 0.60.\n",
    "\n",
    "What is the probability of exactly throwing 2 spares and 3 strikes?\n",
    "\n",
    "In this case, it will not be possible to use combinations anymore, but you'll be able to use your permutations knowledge here!"
   ]
  },
  {
   "cell_type": "code",
   "execution_count": 34,
   "metadata": {},
   "outputs": [
    {
     "data": {
      "text/plain": [
       "0.041334299999999984"
      ]
     },
     "execution_count": 34,
     "metadata": {},
     "output_type": "execute_result"
    }
   ],
   "source": [
    "spare_strike = factorial(10)/(factorial(3)*factorial(2)*factorial(5)) * (0.15**3 * 0.25**2 * 0.6**5)\n",
    "spare_strike # correct answer: 0.026453951999999992"
   ]
  },
  {
   "cell_type": "code",
   "execution_count": 31,
   "metadata": {},
   "outputs": [
    {
     "data": {
      "text/plain": [
       "720.0"
      ]
     },
     "execution_count": 31,
     "metadata": {},
     "output_type": "execute_result"
    }
   ],
   "source": [
    "permutation(10,3)"
   ]
  },
  {
   "cell_type": "code",
   "execution_count": 30,
   "metadata": {},
   "outputs": [
    {
     "data": {
      "text/plain": [
       "42.0"
      ]
     },
     "execution_count": 30,
     "metadata": {},
     "output_type": "execute_result"
    }
   ],
   "source": [
    "permutation(7,2)"
   ]
  },
  {
   "cell_type": "code",
   "execution_count": null,
   "metadata": {},
   "outputs": [],
   "source": []
  }
 ],
 "metadata": {
  "kernelspec": {
   "display_name": "Python 3",
   "language": "python",
   "name": "python3"
  },
  "language_info": {
   "codemirror_mode": {
    "name": "ipython",
    "version": 3
   },
   "file_extension": ".py",
   "mimetype": "text/x-python",
   "name": "python",
   "nbconvert_exporter": "python",
   "pygments_lexer": "ipython3",
   "version": "3.6.4"
  }
 },
 "nbformat": 4,
 "nbformat_minor": 2
}
